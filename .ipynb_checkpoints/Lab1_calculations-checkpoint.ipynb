{
 "cells": [
  {
   "cell_type": "code",
   "execution_count": 1,
   "metadata": {},
   "outputs": [],
   "source": [
    "import numpy as np\n",
    "from astropy import units as u"
   ]
  },
  {
   "attachments": {
    "image.png": {
     "image/png": "[encoded data removed]"
    }
   },
   "cell_type": "markdown",
   "metadata": {},
   "source": [
    "an Earth composition core satisfies a relation : ![image.png](attachment:image.png)"
   ]
  },
  {
   "cell_type": "code",
   "execution_count": 2,
   "metadata": {},
   "outputs": [],
   "source": [
    "def avg_rho_from_Mp(Mp,verbose = 0):\n",
    "    '''take a mass value and calculate avg core density using Valencia et al. 2006'''\n",
    "    Rp = ((Mp/u.Mearth)**0.27)*u.Rearth # Valencia et al. 2006\n",
    "    rhop = Mp / (4*np.pi*(Rp**3)/3)\n",
    "    rhop_cgs = rhop.cgs\n",
    "    Mp_Smass = Mp.to(u.Msun)\n",
    "    if verbose == 1:\n",
    "        print(\"for planet mass : {f}\".format(f = Mp), \"\\n\\t\\tor {g}\".format(g = Mp.to(u.Msun)))\n",
    "        print(\"planet core avg rho : {f}\".format(f = rhop_cgs))\n",
    "    if verbose == 2:\n",
    "        print(Rp)\n",
    "        print(rhop)\n",
    "        print(rhop_cgs)\n",
    "        print(\"for planet mass : {f}\".format(f = Mp))\n",
    "        print(\"\\n\\tor {g}\".format(g = Mp.to(u.Msun)))\n",
    "        print(\"planet core avg rho : {f}\".format(f = rhop_cgs))\n",
    "    return (rhop_cgs,Mp_Smass)"
   ]
  },
  {
   "cell_type": "code",
   "execution_count": 3,
   "metadata": {},
   "outputs": [],
   "source": [
    "# Re = 1*u.Rearth\n",
    "# Me = 1*u.Mearth\n",
    "# Mp = 10*u.Mearth"
   ]
  },
  {
   "cell_type": "code",
   "execution_count": 4,
   "metadata": {},
   "outputs": [
    {
     "name": "stdout",
     "output_type": "stream",
     "text": [
      "      saved_model_name = \"planet_1a_create.mod\"\n",
      "       save_model_filename = \"planet_1b_core_10ME.mod\"\n",
      "       new_core_mass = 3.0034893488507933e-05 ! 10 Mearth in Msun units\n",
      "       core_avg_rho = 8.51078118665938 ! g/cm^3\n",
      " \tstar_history_name = \"history_1b_core_15=ME\"\n",
      "\n"
     ]
    }
   ],
   "source": [
    "with open('inlist_1b_core') as f:\n",
    "    lines = f.readlines()\n",
    "    print(lines[7], lines[10], lines[14], lines[15], lines[51])\n",
    "    f.close"
   ]
  },
  {
   "cell_type": "code",
   "execution_count": 5,
   "metadata": {},
   "outputs": [
    {
     "name": "stdout",
     "output_type": "stream",
     "text": [
      "for planet mass : 3.0 earthMass \n",
      "\t\tor 9.01046804655238e-06 solMass\n",
      "planet core avg rho : 6.7705268276637325 g / cm3\n",
      "inlist_1b_core_3ME\n",
      "\n",
      "\n",
      "for planet mass : 5.0 earthMass \n",
      "\t\tor 1.5017446744253966e-05 solMass\n",
      "planet core avg rho : 7.460599481094487 g / cm3\n",
      "inlist_1b_core_5ME\n",
      "\n",
      "\n",
      "for planet mass : 7.0 earthMass \n",
      "\t\tor 2.1024425441955554e-05 solMass\n",
      "planet core avg rho : 7.953129470852457 g / cm3\n",
      "inlist_1b_core_7ME\n",
      "\n",
      "\n",
      "for planet mass : 10.0 earthMass \n",
      "\t\tor 3.0034893488507933e-05 solMass\n",
      "planet core avg rho : 8.51078118665938 g / cm3\n",
      "inlist_1b_core_10ME\n",
      "\n",
      "\n",
      "for planet mass : 12.0 earthMass \n",
      "\t\tor 3.604187218620952e-05 solMass\n",
      "planet core avg rho : 8.81076994423131 g / cm3\n",
      "inlist_1b_core_12ME\n",
      "\n",
      "\n"
     ]
    }
   ],
   "source": [
    "m_multiples = np.array([3,5,7,10,12])\n",
    "masses_in_Emass = m_multiples * u.Mearth\n",
    "files_to_write = []\n",
    "fnames = []\n",
    "for i,mass in enumerate(masses_in_Emass):\n",
    "    avg_rho_cgs, Mp_Smass = avg_rho_from_Mp(mass,verbose = 1)\n",
    "    with open('inlist_1b_core') as f:\n",
    "        lines = f.readlines()\n",
    "        lines[10] = \"\\tsave_model_filename = \\\"planet_1b_core_\"+str(m_multiples[i])+\"ME.mod\\\"\\n\"\n",
    "        lines[14] = \"\\tnew_core_mass = \"+str(Mp_Smass.value)+\" ! \"+str(m_multiples[i])+\" Mearth in Msun units\\n\"\n",
    "        lines[15] = \"\\tcore_avg_rho = \"+str(avg_rho_cgs.value)+\" ! g/cm^3\\n\"\n",
    "        lines[51] = \"\\tstar_history_name = \\\"history_1b_core_\"+str(m_multiples[i])+\"=ME\\\"\\n\"\n",
    "        files_to_write.append(lines)\n",
    "        fnames.append(\"inlist_1b_core_\"+str(m_multiples[i])+\"ME\")\n",
    "        f.close\n",
    "    print(fnames[-1])\n",
    "    print(\"\\n\")"
   ]
  },
  {
   "cell_type": "code",
   "execution_count": 6,
   "metadata": {},
   "outputs": [],
   "source": [
    "for i,w_files in enumerate(fnames):\n",
    "    with open(str(w_files),'w') as f:\n",
    "        f.writelines(files_to_write[i])\n",
    "        f.close"
   ]
  },
  {
   "cell_type": "code",
   "execution_count": 7,
   "metadata": {},
   "outputs": [
    {
     "name": "stdout",
     "output_type": "stream",
     "text": [
      "      saved_model_name = \"planet_1b_core_15ME.mod\"\n",
      "       save_model_filename = \"planet_1c_reducemass_15ME_0.1.mod\" !!Change Mcore and fenv in file name\n",
      "       new_mass = 5.00737e-05   ! careful, this mass has to be written in solar masses!!\n",
      " \tstar_history_name = \"history_1c_reducemass_15ME_0.1\"   !!Change Mcore and fenv in file name \n",
      "\n"
     ]
    }
   ],
   "source": [
    "with open('inlist_1c_reducemass') as f:\n",
    "    lines = f.readlines()\n",
    "    print(lines[7], lines[10], lines[16], lines[59])\n",
    "    f.close"
   ]
  },
  {
   "cell_type": "code",
   "execution_count": 8,
   "metadata": {},
   "outputs": [
    {
     "name": "stdout",
     "output_type": "stream",
     "text": [
      "[<Quantity 1.00116312e-05 solMass>, <Quantity 1.66860519e-05 solMass>, <Quantity 2.33604727e-05 solMass>, <Quantity 3.33721039e-05 solMass>, <Quantity 4.00465247e-05 solMass>]\n",
      "[<Quantity 9.10148288e-06 solMass>, <Quantity 1.51691381e-05 solMass>, <Quantity 2.12367934e-05 solMass>, <Quantity 3.03382763e-05 solMass>, <Quantity 3.64059315e-05 solMass>]\n"
     ]
    }
   ],
   "source": [
    "# fenv = Menv / Mp\n",
    "# Mp = Menv + Mc\n",
    "# Mp = Mc / (1-fenv)\n",
    "core_masses = np.array([3,5,7,10,12]) * u.Mearth\n",
    "# print(core_masses)\n",
    "fenvs = np.array([0.1,0.01])\n",
    "total_masses = []\n",
    "for fenv in fenvs:\n",
    "    plant_mass_array = []\n",
    "    for mass in core_masses:\n",
    "        plant_mass_array.append(mass/(1-fenv))\n",
    "    total_masses.append(plant_mass_array)\n",
    "newmass_fp1 = []\n",
    "newmass_fp01 = []\n",
    "for planet_mass in total_masses[0]:\n",
    "    newmass_fp1.append(planet_mass.to(u.Msun))\n",
    "for planet_mass in total_masses[1]:\n",
    "    newmass_fp01.append(planet_mass.to(u.Msun))\n",
    "print(newmass_fp1)\n",
    "print(newmass_fp01)\n",
    "total_masses_Msun = [newmass_fp1,newmass_fp01]"
   ]
  },
  {
   "cell_type": "markdown",
   "metadata": {},
   "source": [
    "msun_core_masses = core_masses.to(u.Msun)\n",
    "\n",
    "# test the above calculation\n",
    "for i, core in enumerate(msun_core_masses):\n",
    "    print(1-(core/newmass_fp1[i]))\n",
    "for i, core in enumerate(msun_core_masses):\n",
    "    print(1-(core/newmass_fp01[i]))"
   ]
  },
  {
   "cell_type": "code",
   "execution_count": 9,
   "metadata": {},
   "outputs": [
    {
     "name": "stdout",
     "output_type": "stream",
     "text": [
      "inlist_1c_reducemass_3ME_0.1\n",
      "\n",
      "\n",
      "inlist_1c_reducemass_5ME_0.1\n",
      "\n",
      "\n",
      "inlist_1c_reducemass_7ME_0.1\n",
      "\n",
      "\n",
      "inlist_1c_reducemass_10ME_0.1\n",
      "\n",
      "\n",
      "inlist_1c_reducemass_12ME_0.1\n",
      "\n",
      "\n",
      "inlist_1c_reducemass_3ME_0.01\n",
      "\n",
      "\n",
      "inlist_1c_reducemass_5ME_0.01\n",
      "\n",
      "\n",
      "inlist_1c_reducemass_7ME_0.01\n",
      "\n",
      "\n",
      "inlist_1c_reducemass_10ME_0.01\n",
      "\n",
      "\n",
      "inlist_1c_reducemass_12ME_0.01\n",
      "\n",
      "\n"
     ]
    }
   ],
   "source": [
    "files_to_write = []\n",
    "fnames = []\n",
    "for j,fenv in enumerate(fenvs):\n",
    "    for i,mass in enumerate(masses_in_Emass):\n",
    "        with open('inlist_1c_reducemass') as f:\n",
    "            lines = f.readlines()\n",
    "            lines[7] = \"\\tsaved_model_name = \\\"planet_1b_core_\"+str(m_multiples[i])+\"ME.mod\\\"\\n\"\n",
    "            lines[10] = \"\\tsave_model_filename = \\\"planet_1c_reducemass_\"+str(m_multiples[i])+\"ME_\"+str(fenv)+\".mod\\\" !!Change Mcore and fenv in file name\\n\"\n",
    "            lines[16] = \"\\tnew_mass = \"+str(total_masses_Msun[j][i].value)+\"   ! careful, this mass has to be written in solar masses!!\\n\"\n",
    "            lines[59] = \"\\tstar_history_name = \\\"history_1c_reducemass_\"+str(m_multiples[i])+\"ME_\"+str(fenv)+\"\\\"   !!Change Mcore and fenv in file name\\n\"\n",
    "            files_to_write.append(lines)\n",
    "            fnames.append(\"inlist_1c_reducemass_\"+str(m_multiples[i])+\"ME_\"+str(fenv))\n",
    "            f.close\n",
    "        print(fnames[-1])\n",
    "        print(\"\\n\")"
   ]
  },
  {
   "cell_type": "markdown",
   "metadata": {},
   "source": [
    "print(files_to_write[-1][7], files_to_write[-1][10], files_to_write[-1][16], files_to_write[-1][59])"
   ]
  },
  {
   "cell_type": "code",
   "execution_count": 10,
   "metadata": {},
   "outputs": [],
   "source": [
    "for i,w_files in enumerate(fnames):\n",
    "    with open(str(w_files),'w') as f:\n",
    "        f.writelines(files_to_write[i])\n",
    "        f.close"
   ]
  },
  {
   "cell_type": "markdown",
   "metadata": {},
   "source": [
    "# entropy change"
   ]
  },
  {
   "cell_type": "code",
   "execution_count": 11,
   "metadata": {},
   "outputs": [
    {
     "name": "stdout",
     "output_type": "stream",
     "text": [
      "      saved_model_name = \"planet_1c_reducemass_15ME_0.1.mod\"\n",
      "       save_model_filename = \"planet_1d_setS_15ME_0.1_9.0.mod\"\n",
      " \tstar_history_name = \"history_1d_setS_15ME_0.1_9.0\"\n",
      "\n"
     ]
    }
   ],
   "source": [
    "with open('inlist_1d_setS') as f:\n",
    "    lines = f.readlines()\n",
    "    print(lines[7], lines[10], lines[52])\n",
    "    f.close"
   ]
  },
  {
   "cell_type": "code",
   "execution_count": 12,
   "metadata": {},
   "outputs": [
    {
     "name": "stdout",
     "output_type": "stream",
     "text": [
      "inlist_1d_setS_3ME_0.1_9.0\n",
      "\n",
      "\n",
      "inlist_1d_setS_5ME_0.1_9.0\n",
      "\n",
      "\n",
      "inlist_1d_setS_7ME_0.1_9.0\n",
      "\n",
      "\n",
      "inlist_1d_setS_10ME_0.1_9.0\n",
      "\n",
      "\n",
      "inlist_1d_setS_12ME_0.1_9.0\n",
      "\n",
      "\n",
      "inlist_1d_setS_3ME_0.01_9.0\n",
      "\n",
      "\n",
      "inlist_1d_setS_5ME_0.01_9.0\n",
      "\n",
      "\n",
      "inlist_1d_setS_7ME_0.01_9.0\n",
      "\n",
      "\n",
      "inlist_1d_setS_10ME_0.01_9.0\n",
      "\n",
      "\n",
      "inlist_1d_setS_12ME_0.01_9.0\n",
      "\n",
      "\n"
     ]
    }
   ],
   "source": [
    "files_to_write = []\n",
    "fnames = []\n",
    "for j,fenv in enumerate(fenvs):\n",
    "    for i,mass in enumerate(masses_in_Emass):\n",
    "        with open('inlist_1d_setS') as f:\n",
    "            lines = f.readlines()\n",
    "            lines[7] = \"\\tsaved_model_name = \\\"planet_1c_reducemass_\"+str(m_multiples[i])+\"ME_\"+str(fenv)+\".mod\\\"\\n\"\n",
    "            lines[10] = \"\\tsave_model_filename = \\\"planet_1d_setS_\"+str(m_multiples[i])+\"ME_\"+str(fenv)+\"_9.0.mod\\\"\\n\"\n",
    "            lines[52] = \"\\tstar_history_name = \\\"history_1d_setS_\"+str(m_multiples[i])+\"ME_\"+str(fenv)+\"_9.0\\\"\\n\"\n",
    "            files_to_write.append(lines)\n",
    "            fnames.append(\"inlist_1d_setS_\"+str(m_multiples[i])+\"ME_\"+str(fenv)+\"_9.0\")\n",
    "            f.close\n",
    "        print(fnames[-1])\n",
    "        print(\"\\n\")"
   ]
  },
  {
   "cell_type": "code",
   "execution_count": 17,
   "metadata": {},
   "outputs": [
    {
     "name": "stdout",
     "output_type": "stream",
     "text": [
      "\tsaved_model_name = \"planet_1c_reducemass_12ME_0.01.mod\"\n",
      " \tsave_model_filename = \"planet_1d_setS_12ME_0.01_9.0.mod\"\n",
      " \tstar_history_name = \"history_1d_setS_12ME_0.01_9.0\"\n",
      "\n"
     ]
    }
   ],
   "source": [
    "# test lines\n",
    "print(files_to_write[-1][7],files_to_write[-1][10],files_to_write[-1][52])"
   ]
  },
  {
   "cell_type": "code",
   "execution_count": 13,
   "metadata": {},
   "outputs": [],
   "source": [
    "for i,w_files in enumerate(fnames):\n",
    "    with open(str(w_files),'w') as f:\n",
    "        f.writelines(files_to_write[i])\n",
    "        f.close"
   ]
  },
  {
   "cell_type": "code",
   "execution_count": 14,
   "metadata": {},
   "outputs": [],
   "source": [
    "# make execution script for 1d\n",
    "script = [\"#!/bin/sh\\n\\n\"]\n",
    "for fn in fnames:\n",
    "    script.append(\"mv \"+fn+\" inlist\\n\")\n",
    "    script.append(\"./clean\\n\")\n",
    "    script.append(\"./mk\\n\")\n",
    "    script.append(\"./rn\\n\")\n",
    "    script.append(\"mv \"+\"inlist \"+fn+\"\\n\")\n",
    "    script.append(\"mv LOGS \"+fn+\"\\n\")\n",
    "    script.append(\"ls\\n\")"
   ]
  },
  {
   "cell_type": "markdown",
   "metadata": {},
   "source": [
    "print(script)"
   ]
  },
  {
   "cell_type": "code",
   "execution_count": 15,
   "metadata": {},
   "outputs": [
    {
     "name": "stdout",
     "output_type": "stream",
     "text": [
      "scp script_1d inlist_1d_setS_3ME_0.1_9.0 inlist_1d_setS_5ME_0.1_9.0 inlist_1d_setS_7ME_0.1_9.0 inlist_1d_setS_10ME_0.1_9.0 inlist_1d_setS_12ME_0.1_9.0 inlist_1d_setS_3ME_0.01_9.0 inlist_1d_setS_5ME_0.01_9.0 inlist_1d_setS_7ME_0.01_9.0 inlist_1d_setS_10ME_0.01_9.0 inlist_1d_setS_12ME_0.01_9.0 qadeer@student33.strw.leidenuniv.nl:/home/qadeer/Desktop/eia2022/ass1/Lab1/Lab1/\n"
     ]
    }
   ],
   "source": [
    "# scp command for file transfer\n",
    "namestring = \"script_1d \"\n",
    "for n in fnames:\n",
    "    namestring = namestring + n + \" \"\n",
    "\n",
    "print(\"scp \"+namestring+\"qadeer@student33.strw.leidenuniv.nl:/home/qadeer/Desktop/eia2022/ass1/Lab1/Lab1/\")"
   ]
  },
  {
   "cell_type": "code",
   "execution_count": 16,
   "metadata": {},
   "outputs": [],
   "source": [
    "with open('script_1d.txt','w') as f:\n",
    "    f.writelines(script)\n",
    "    f.close"
   ]
  }
 ],
 "metadata": {
  "kernelspec": {
   "display_name": "Python 3",
   "language": "python",
   "name": "python3"
  },
  "language_info": {
   "codemirror_mode": {
    "name": "ipython",
    "version": 3
   },
   "file_extension": ".py",
   "mimetype": "text/x-python",
   "name": "python",
   "nbconvert_exporter": "python",
   "pygments_lexer": "ipython3",
   "version": "3.8.5"
  }
 },
 "nbformat": 4,
 "nbformat_minor": 4
}
