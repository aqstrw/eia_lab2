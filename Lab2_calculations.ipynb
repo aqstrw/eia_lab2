{
 "cells": [
  {
   "cell_type": "code",
   "execution_count": 1,
   "id": "9a777f55",
   "metadata": {},
   "outputs": [],
   "source": [
    "import numpy as np\n",
    "import astropy.units as u\n",
    "import os\n",
    "import re"
   ]
  },
  {
   "cell_type": "markdown",
   "id": "61722e43",
   "metadata": {},
   "source": [
    "# global variables"
   ]
  },
  {
   "cell_type": "code",
   "execution_count": 12,
   "id": "c2d25c13",
   "metadata": {},
   "outputs": [
    {
     "name": "stdout",
     "output_type": "stream",
     "text": [
      "masses in Emass =  [12]\n",
      "fenvs =  [0.1]\n",
      "cwd =  C:\\Users\\ambar\\Documents\\GitHub\\eia_lab2\n"
     ]
    }
   ],
   "source": [
    "masses_in_Emass = [12]\n",
    "fenvs = [0.1]\n",
    "cwd = os.getcwd()\n",
    "# cwd_linstyle = re.sub(\"C:\\\\\",\"\\\\/mnt\\/c\\/\",cwd)\n",
    "# cwd_linstyle = re.sub(\"\\\\\\\\\",\"\\/\",cwd_linstyle)\n",
    "print(\"masses in Emass = \", masses_in_Emass)\n",
    "print(\"fenvs = \", fenvs)\n",
    "# print(\"cwd_linstyle = \", cwd_linstyle)\n",
    "print(\"cwd = \", cwd)"
   ]
  },
  {
   "cell_type": "markdown",
   "id": "f926b691",
   "metadata": {},
   "source": [
    "# 2 a"
   ]
  },
  {
   "cell_type": "code",
   "execution_count": 21,
   "id": "1408e306",
   "metadata": {},
   "outputs": [
    {
     "name": "stdout",
     "output_type": "stream",
     "text": [
      "      saved_model_name = \"planet_1d_setS_15ME_0.1_9.0.mod\"\n",
      "       save_model_filename = \"planet_2a_evolve_15ME_0.1_9.0.mod\"\n",
      "       pause_before_terminate = .true. ! lets you examine the final pgstar window when run terminates\n",
      " \tstar_history_name = \"history_2a_evolve_15ME_0.1_9.0\"\n",
      "\n"
     ]
    }
   ],
   "source": [
    "# print certain lines of the file that we use as base to edit and create files for different models\n",
    "with open('inlist_2a_evolve') as f:\n",
    "    lines = f.readlines()\n",
    "    print(lines[7], lines[10], lines[29], lines[53])\n",
    "    f.close"
   ]
  },
  {
   "cell_type": "code",
   "execution_count": 22,
   "id": "9fc9d893",
   "metadata": {},
   "outputs": [
    {
     "name": "stdout",
     "output_type": "stream",
     "text": [
      "inlist_2a_evolve_12ME_0.1_9.0\n",
      "\n",
      "\n"
     ]
    }
   ],
   "source": [
    "# create a list of arrays with all the lines of the files we need to write\n",
    "# and a list of filenames to save the files with\n",
    "files_to_write = []\n",
    "fnames = []\n",
    "for j,fenv in enumerate(fenvs):\n",
    "    for i,mass in enumerate(masses_in_Emass):\n",
    "        with open('inlist_2a_evolve') as f:\n",
    "            lines = f.readlines()\n",
    "            #saved_model_name = \"planet_1d_setS_15ME_0.1_9.0.mod\"\n",
    "            lines[7] = \"\\tsaved_model_name = \\\"planet_1d_setS_\"+str(mass)+\"ME_\"+str(fenv)+\"_9.0.mod\\\"\\n\"\n",
    "            lines[10] = \"\\tsave_model_filename = \\\"planet_2a_evolve_\"+str(mass)+\"ME_\"+str(fenv)+\"_9.0.mod\\\"\\n\"\n",
    "            lines[29] = \"\\tpause_before_terminate = .false. ! lets you examine the final pgstar window when run terminates\"\n",
    "            lines[53] = \"\\tstar_history_name = \\\"history_planet_2a_evolve_\"+str(mass)+\"ME_\"+str(fenv)+\"_9.0\\\"\\n\"\n",
    "            files_to_write.append(lines)\n",
    "            fnames.append(\"inlist_2a_evolve_\"+str(mass)+\"ME_\"+str(fenv)+\"_9.0\")\n",
    "            f.close\n",
    "        print(fnames[-1])\n",
    "        print(\"\\n\")"
   ]
  },
  {
   "cell_type": "code",
   "execution_count": 23,
   "id": "ff64e975",
   "metadata": {},
   "outputs": [
    {
     "name": "stdout",
     "output_type": "stream",
     "text": [
      "\tsaved_model_name = \"planet_1d_setS_12ME_0.1_9.0.mod\"\n",
      " \tsave_model_filename = \"planet_2a_evolve_12ME_0.1_9.0.mod\"\n",
      " \tpause_before_terminate = .false. ! lets you examine the final pgstar window when run terminates \tstar_history_name = \"history_planet_2a_evolve_12ME_0.1_9.0\"\n",
      "\n"
     ]
    }
   ],
   "source": [
    "# check if the lists have been updated and saved correctly\n",
    "print(files_to_write[-1][7],files_to_write[-1][10],files_to_write[-1][29],files_to_write[-1][53])"
   ]
  },
  {
   "cell_type": "code",
   "execution_count": 24,
   "id": "c25f0866",
   "metadata": {},
   "outputs": [],
   "source": [
    "# write out to files\n",
    "for i,w_files in enumerate(fnames):\n",
    "    with open(str(w_files),'w') as f:\n",
    "        f.writelines(files_to_write[i])\n",
    "        f.close"
   ]
  },
  {
   "cell_type": "code",
   "execution_count": 25,
   "id": "5cf24b1f",
   "metadata": {},
   "outputs": [],
   "source": [
    "# make execution script\n",
    "'''steps:\n",
    "    - add the #!/bin line that makes the file executable\n",
    "    - loop over the filenames that we need to run and write script for each in the following steps\n",
    "        1. rename to inlist\n",
    "        2. clean\n",
    "        3. make\n",
    "        4. run\n",
    "        5. rename to previous name\n",
    "        6. create a copy of log folder with unique name\n",
    "        7. display the contents of the directory\n",
    "'''\n",
    "\n",
    "script = [\"#!/bin/sh\\n\\n\"]\n",
    "for fn in fnames:\n",
    "    script.append(\"mv \"+fn+\" inlist\\n\")\n",
    "    script.append(\"./clean\\n\")\n",
    "    script.append(\"./mk\\n\")\n",
    "    script.append(\"./rn\\n\")\n",
    "    script.append(\"mv \"+\"inlist \"+fn+\"\\n\")\n",
    "    script.append(\"mv LOGS LOGS_\"+fn+\"\\n\")\n",
    "    script.append(\"ls\\n\")"
   ]
  },
  {
   "cell_type": "code",
   "execution_count": 26,
   "id": "744f0a29",
   "metadata": {},
   "outputs": [
    {
     "name": "stdout",
     "output_type": "stream",
     "text": [
      "scp script_2a inlist_2a_evolve_12ME_0.1_9.0 qadeer@student62.strw.leidenuniv.nl:/data2/qadeer/eia2022/eia_lab2/\n"
     ]
    }
   ],
   "source": [
    "# if working remotely, this command helps copy the right files to remote from local,\n",
    "# might have to edit the directories to suit yourself\n",
    "\n",
    "namestring = \"script_2a \"\n",
    "for n in fnames:\n",
    "    namestring = namestring + n + \" \"\n",
    "\n",
    "print(\"scp \"+namestring+\"qadeer@student62.strw.leidenuniv.nl:/data2/qadeer/eia2022/eia_lab2/\")"
   ]
  },
  {
   "cell_type": "code",
   "execution_count": 27,
   "id": "a775ff9c",
   "metadata": {},
   "outputs": [],
   "source": [
    "# write out to the bash script to a txt file\n",
    "with open('script_2a.sh','w') as f:\n",
    "    f.writelines(script)\n",
    "    f.close"
   ]
  },
  {
   "cell_type": "markdown",
   "id": "4ae4e515",
   "metadata": {},
   "source": [
    "# 2 b"
   ]
  },
  {
   "cell_type": "code",
   "execution_count": 3,
   "id": "eec908a0",
   "metadata": {},
   "outputs": [
    {
     "name": "stdout",
     "output_type": "stream",
     "text": [
      "3.828000000000001e+33 erg / s\n",
      "14959788750000.0 cm\n",
      "calculated F for earth =  1361166.1596877435 erg / (cm2 s)\n"
     ]
    }
   ],
   "source": [
    "# Calculate F at earth from sun\n",
    "# using earth's semi major axis = 149,597,887.5 km\n",
    "a_earth = 149597887.5 * u.km\n",
    "a_earth_cgs = a_earth.cgs\n",
    "Lsun = 1 * u.L_sun\n",
    "Lsun_cgs = Lsun.cgs\n",
    "print(Lsun_cgs, a_earth_cgs,sep = '\\n')\n",
    "\n",
    "def calc_F_at_a(L = Lsun_cgs,a = a_earth_cgs):\n",
    "    '''for an input L and a, calculates F using F = L / (4*pi*(a^2))'''\n",
    "    return(L/(4*np.pi*(a**2)))\n",
    "\n",
    "F_earth_cgs = calc_F_at_a()\n",
    "print(\"calculated F for earth = \", F_earth_cgs)"
   ]
  },
  {
   "cell_type": "code",
   "execution_count": 4,
   "id": "4c449b44",
   "metadata": {},
   "outputs": [],
   "source": [
    "f_list = [10,100] # list of multiples we want\n",
    "F_list = F_earth_cgs*f_list # list of fluxes we want   "
   ]
  },
  {
   "cell_type": "code",
   "execution_count": 5,
   "id": "51eff53b",
   "metadata": {},
   "outputs": [
    {
     "data": {
      "text/latex": [
       "$[13611662,~1.3611662 \\times 10^{8}] \\; \\mathrm{\\frac{erg}{s\\,cm^{2}}}$"
      ],
      "text/plain": [
       "<Quantity [1.36116616e+07, 1.36116616e+08] erg / (cm2 s)>"
      ]
     },
     "execution_count": 5,
     "metadata": {},
     "output_type": "execute_result"
    }
   ],
   "source": [
    "F_list"
   ]
  },
  {
   "cell_type": "code",
   "execution_count": 6,
   "id": "0d7ebac7",
   "metadata": {},
   "outputs": [
    {
     "name": "stdout",
     "output_type": "stream",
     "text": [
      "      saved_model_name = \"planet_2a_evolve_15ME_0.1_9.0.mod\"\n",
      "       save_model_filename = \"planet_2b_relaxsurfheat_15ME_0.1_9.0.mod\"\n",
      "       relax_to_this_irrad_flux = 1.d7 !  erg s^-1 cm^-2\n",
      "       irrad_col_depth =  3.d2 !  g cm^-2\n",
      "       pause_before_terminate = .true. ! lets you examine the final pgstar window when run terminates\n",
      " \tstar_history_name = \"history_2c_relaxsurfheat_15ME_0.1_9.0\"\n",
      "\n"
     ]
    }
   ],
   "source": [
    "# print certain lines of the file that we use as base to edit and create files for different models\n",
    "with open('inlist_2b_relaxsurfheat') as f:\n",
    "    lines = f.readlines()\n",
    "    print(lines[7], lines[10], lines[13], lines[19], lines[32], lines[51])\n",
    "    f.close"
   ]
  },
  {
   "cell_type": "code",
   "execution_count": 17,
   "id": "39c83882",
   "metadata": {},
   "outputs": [
    {
     "name": "stdout",
     "output_type": "stream",
     "text": [
      "inlist_2b_relaxsurfheat_12ME_0.1_9.0_10Fearth\n",
      "\n",
      "\n",
      "inlist_2b_relaxsurfheat_12ME_0.1_9.0_100Fearth\n",
      "\n",
      "\n"
     ]
    }
   ],
   "source": [
    "# create a list of arrays with all the lines of the files we need to write\n",
    "# and a list of filenames to save the files with\n",
    "files_to_write = []\n",
    "fnames = []\n",
    "for j,fenv in enumerate(fenvs):\n",
    "    for i,mass in enumerate(masses_in_Emass):\n",
    "        for k,flux in enumerate(F_list):\n",
    "            with open('inlist_2b_relaxsurfheat') as f:\n",
    "                lines = f.readlines()\n",
    "                lines[7] = \"\\tsaved_model_name = \\\"planet_2a_evolve_\"+str(mass)+\"ME_\"+str(fenv)+\"_9.0.mod\\\"\\n\"\n",
    "                lines[10] = \"\\tsave_model_filename = \\\"planet_2b_relaxsurfheat_\"+str(mass)+\"ME_\"+str(fenv)+\"_9.0_\"+str(f_list[k])+\"Fearth.mod\\\"\\n\"\n",
    "                lines[13] = \"\\trelax_to_this_irrad_flux = \"+str(flux.value)+\" !  erg s^-1 cm^-2\\n\"\n",
    "                lines[19] = \"\\tirrad_col_depth =  3.d2 !  g cm^-2\\n\"\n",
    "                lines[32] = \"\\tpause_before_terminate = .false. ! lets you examine the final pgstar window when run terminates\\n\"\n",
    "                lines[51] = \"\\tstar_history_name = \\\"history_2b_relaxsurfheat_\"+str(mass)+\"ME_\"+str(fenv)+\"_9.0_\"+str(f_list[k])+\"Fearth\\\"\\n\"\n",
    "                files_to_write.append(lines)\n",
    "                fnames.append(\"inlist_2b_relaxsurfheat_\"+str(mass)+\"ME_\"+str(fenv)+\"_9.0_\"+str(f_list[k])+\"Fearth\")\n",
    "                f.close\n",
    "            print(fnames[-1])\n",
    "            print(\"\\n\")"
   ]
  },
  {
   "cell_type": "code",
   "execution_count": 18,
   "id": "c5ea3160",
   "metadata": {},
   "outputs": [
    {
     "name": "stdout",
     "output_type": "stream",
     "text": [
      "\tsaved_model_name = \"planet_2a_evolve_12ME_0.1_9.0.mod\"\n",
      " \tsave_model_filename = \"planet_2b_relaxsurfheat_12ME_0.1_9.0_100Fearth.mod\"\n",
      " \trelax_to_this_irrad_flux = 136116615.96877435 !  erg s^-1 cm^-2\n",
      " \tirrad_col_depth =  3.d2 !  g cm^-2\n",
      " \tpause_before_terminate = .false. ! lets you examine the final pgstar window when run terminates\n",
      " \tstar_history_name = \"history_2b_relaxsurfheat_12ME_0.1_9.0_100Fearth\"\n",
      "\n"
     ]
    }
   ],
   "source": [
    "# check if the lists have been updated and saved correctly\n",
    "print(files_to_write[-1][7],files_to_write[-1][10],files_to_write[-1][13],files_to_write[-1][19],files_to_write[-1][32],files_to_write[-1][51])"
   ]
  },
  {
   "cell_type": "code",
   "execution_count": 19,
   "id": "a58c2f67",
   "metadata": {},
   "outputs": [],
   "source": [
    "# write out to files\n",
    "for i,w_files in enumerate(fnames):\n",
    "    with open(str(w_files),'w') as f:\n",
    "        f.writelines(files_to_write[i])\n",
    "        f.close"
   ]
  },
  {
   "cell_type": "code",
   "execution_count": 20,
   "id": "375fa299",
   "metadata": {},
   "outputs": [],
   "source": [
    "# make execution script\n",
    "'''steps:\n",
    "    - add the #!/bin line that makes the file executable\n",
    "    - loop over the filenames that we need to run and write script for each in the following steps\n",
    "        1. rename to inlist\n",
    "        2. clean\n",
    "        3. make\n",
    "        4. run\n",
    "        5. rename to previous name\n",
    "        6. create a copy of log folder with unique name\n",
    "        7. display the contents of the directory\n",
    "'''\n",
    "\n",
    "script = [\"#!/bin/sh\\n\\n\"]\n",
    "for fn in fnames:\n",
    "    script.append(\"mv \"+fn+\" inlist\\n\")\n",
    "    script.append(\"./clean\\n\")\n",
    "    script.append(\"./mk\\n\")\n",
    "    script.append(\"./rn\\n\")\n",
    "    script.append(\"mv \"+\"inlist \"+fn+\"\\n\")\n",
    "    script.append(\"mv LOGS LOGS_\"+fn+\"\\n\")\n",
    "    script.append(\"ls\\n\")"
   ]
  },
  {
   "cell_type": "code",
   "execution_count": 21,
   "id": "bc3f6c29",
   "metadata": {},
   "outputs": [],
   "source": [
    "# write out to the bash script to a txt file\n",
    "with open('script_2b.sh','w') as f:\n",
    "    f.writelines(script)\n",
    "    f.close"
   ]
  },
  {
   "cell_type": "code",
   "execution_count": 26,
   "id": "af35a486",
   "metadata": {},
   "outputs": [
    {
     "name": "stdout",
     "output_type": "stream",
     "text": [
      "The semi-major axes are respectively :  [4.73070058e+12 1.49597888e+12] cm\n",
      "As compared to Earth at :  14959788750000.0 cm\n"
     ]
    }
   ],
   "source": [
    "# lastly, calculate the semimajor axes for the two planets evolved here\n",
    "def calc_a_at_F(L = Lsun_cgs,F = F_earth_cgs):\n",
    "    '''for an input F and L, calculates a using a = np.sqrt(L / (4*pi*F))'''\n",
    "    return(np.sqrt(L/(4*np.pi*F)))\n",
    "\n",
    "a_list = calc_a_at_F(F = F_list)\n",
    "print(\"The semi-major axes are respectively : \",a_list)\n",
    "print(\"As compared to Earth at : \",calc_a_at_F())"
   ]
  },
  {
   "cell_type": "markdown",
   "id": "da4e8d9f",
   "metadata": {},
   "source": [
    "# 2 c"
   ]
  },
  {
   "cell_type": "code",
   "execution_count": 37,
   "id": "db02c372",
   "metadata": {},
   "outputs": [
    {
     "name": "stdout",
     "output_type": "stream",
     "text": [
      "      saved_model_name = \"planet_2b_relaxsurfheat_15ME_0.1_9.0.mod\"\n",
      "       save_model_filename = \"planet_2c_evosurfheat_15ME_0.1_9.0.mod\"\n",
      "       pause_before_terminate = .true. ! lets you examine the final pgstar window when run terminates\n",
      " \tcolumn_depth_for_irradiation = 3.d2 !cm^2/g\n",
      "         irradiation_flux = 1.d7 !erg/cm^2/s ! day side flux, stellar irradiance incident on planet\n",
      " \tmax_age = 5.0d9\n",
      " \tstar_history_name = \"history_2c_surfheat_15ME_0.1_9.0\"\n",
      "\n"
     ]
    }
   ],
   "source": [
    "# print certain lines of the file that we use as base to edit and create files for different models\n",
    "with open('inlist_2c_evosurfheat') as f:\n",
    "    lines = f.readlines()\n",
    "    print(lines[7], lines[10], lines[20], lines[30], lines[31], lines[35], lines[44])\n",
    "    f.close"
   ]
  },
  {
   "cell_type": "code",
   "execution_count": 43,
   "id": "3680ad26",
   "metadata": {},
   "outputs": [
    {
     "name": "stdout",
     "output_type": "stream",
     "text": [
      "inlist_2c_evosurfheat_12ME_0.1_9.0_10Fearth\n",
      "\n",
      "\n",
      "inlist_2c_evosurfheat_12ME_0.1_9.0_100Fearth\n",
      "\n",
      "\n"
     ]
    }
   ],
   "source": [
    "# create a list of arrays with all the lines of the files we need to write\n",
    "# and a list of filenames to save the files with\n",
    "files_to_write = []\n",
    "fnames = []\n",
    "for j,fenv in enumerate(fenvs):\n",
    "    for i,mass in enumerate(masses_in_Emass):\n",
    "        for k,flux in enumerate(F_list):\n",
    "            with open('inlist_2c_evosurfheat') as f:\n",
    "                lines = f.readlines()\n",
    "                lines[7] = \"\\tsaved_model_name = \\\"planet_2b_relaxsurfheat_\"+str(mass)+\"ME_\"+str(fenv)+\"_9.0_\"+str(f_list[k])+\"Fearth.mod\\\"\\n\"\n",
    "                lines[10] = \"\\tsave_model_filename = \\\"planet_2c_evosurfheat_\"+str(mass)+\"ME_\"+str(fenv)+\"_9.0_\"+str(f_list[k])+\"Fearth.mod\\\"\\n\"\n",
    "                lines[20] = \"\\tpause_before_terminate = .false. ! lets you examine the final pgstar window when run terminates\\n\"\n",
    "#                 lines[30] = \"\\tirrad_col_depth =  3.d2 !  g cm^-2\\n\"\n",
    "                lines[31] = \"\\tirradiation_flux = \"+str(flux.value)+\" !  erg s^-1 cm^-2\\n\"\n",
    "#                 lines[35] = \"\\tmax_age = 5.0d9\\n\"\n",
    "                lines[44] = \"\\tstar_history_name = \\\"history_2c_evosurfheat_\"+str(mass)+\"ME_\"+str(fenv)+\"_9.0_\"+str(f_list[k])+\"Fearth\\\"\\n\"\n",
    "                files_to_write.append(lines)\n",
    "                fnames.append(\"inlist_2c_evosurfheat_\"+str(mass)+\"ME_\"+str(fenv)+\"_9.0_\"+str(f_list[k])+\"Fearth\")\n",
    "                f.close\n",
    "            print(fnames[-1])\n",
    "            print(\"\\n\")"
   ]
  },
  {
   "cell_type": "code",
   "execution_count": 44,
   "id": "fe996cb6",
   "metadata": {},
   "outputs": [
    {
     "name": "stdout",
     "output_type": "stream",
     "text": [
      "\tsaved_model_name = \"planet_2b_relaxsurfheat_12ME_0.1_9.0_100Fearth.mod\"\n",
      " \tsave_model_filename = \"planet_2c_evosurfheat_12ME_0.1_9.0_100Fearth.mod\"\n",
      " \tpause_before_terminate = .false. ! lets you examine the final pgstar window when run terminates\n",
      " \tcolumn_depth_for_irradiation = 3.d2 !cm^2/g\n",
      " \tirradiation_flux = 136116615.96877435 !  erg s^-1 cm^-2\n",
      " \tmax_age = 5.0d9\n",
      " \tstar_history_name = \"history_2c_evosurfheat_12ME_0.1_9.0_100Fearth\"\n",
      "\n"
     ]
    }
   ],
   "source": [
    "# check if the lists have been updated and saved correctly\n",
    "# save_model_filename = \"planet_2b_relaxsurfheat_12ME_0.1_9.0_100Fearth.mod\"\n",
    "print(files_to_write[-1][7],files_to_write[-1][10],files_to_write[-1][20],files_to_write[-1][30],files_to_write[-1][31],files_to_write[-1][35],files_to_write[-1][44])"
   ]
  },
  {
   "cell_type": "code",
   "execution_count": 45,
   "id": "f01eb0ff",
   "metadata": {},
   "outputs": [],
   "source": [
    "# write out to files\n",
    "for i,w_files in enumerate(fnames):\n",
    "    with open(str(w_files),'w') as f:\n",
    "        f.writelines(files_to_write[i])\n",
    "        f.close"
   ]
  },
  {
   "cell_type": "code",
   "execution_count": 46,
   "id": "83540522",
   "metadata": {},
   "outputs": [],
   "source": [
    "# make execution script\n",
    "'''steps:\n",
    "    - add the #!/bin line that makes the file executable\n",
    "    - loop over the filenames that we need to run and write script for each in the following steps\n",
    "        1. rename to inlist\n",
    "        2. clean\n",
    "        3. make\n",
    "        4. run\n",
    "        5. rename to previous name\n",
    "        6. create a copy of log folder with unique name\n",
    "        7. display the contents of the directory\n",
    "'''\n",
    "\n",
    "script = [\"#!/bin/sh\\n\\n\"]\n",
    "for fn in fnames:\n",
    "    script.append(\"mv \"+fn+\" inlist\\n\")\n",
    "    script.append(\"./clean\\n\")\n",
    "    script.append(\"./mk\\n\")\n",
    "    script.append(\"./rn\\n\")\n",
    "    script.append(\"mv \"+\"inlist \"+fn+\"\\n\")\n",
    "    script.append(\"mv LOGS LOGS_\"+fn+\"\\n\")\n",
    "    script.append(\"ls\\n\")"
   ]
  },
  {
   "cell_type": "code",
   "execution_count": 47,
   "id": "065fc512",
   "metadata": {},
   "outputs": [],
   "source": [
    "# write out to the bash script to a txt file\n",
    "with open('script_2c.sh','w') as f:\n",
    "    f.writelines(script)\n",
    "    f.close"
   ]
  },
  {
   "cell_type": "markdown",
   "id": "72d40e8a",
   "metadata": {},
   "source": [
    "# Plotting"
   ]
  },
  {
   "cell_type": "code",
   "execution_count": null,
   "id": "a4d544d9",
   "metadata": {},
   "outputs": [],
   "source": [
    "import os"
   ]
  },
  {
   "cell_type": "code",
   "execution_count": 47,
   "id": "3688219e",
   "metadata": {},
   "outputs": [
    {
     "data": {
      "text/plain": [
       "'C:\\\\Users\\\\ambar\\\\Documents\\\\GitHub\\\\eia_lab2'"
      ]
     },
     "execution_count": 47,
     "metadata": {},
     "output_type": "execute_result"
    }
   ],
   "source": [
    "os.getcwd()"
   ]
  },
  {
   "cell_type": "code",
   "execution_count": 53,
   "id": "2be2a280",
   "metadata": {},
   "outputs": [
    {
     "data": {
      "text/plain": [
       "'..\\\\eia_lab1'"
      ]
     },
     "execution_count": 53,
     "metadata": {},
     "output_type": "execute_result"
    }
   ],
   "source": [
    "base = os.path.normpath(os.pardir)\n",
    "lab1dir = base+os.sep+\"eia_lab1\"\n",
    "lab1dir"
   ]
  },
  {
   "cell_type": "code",
   "execution_count": null,
   "id": "cd6d1876",
   "metadata": {},
   "outputs": [],
   "source": [
    "# one showing the evoluEon of the radius of each planet with Eme\n",
    "import pandas as pd\n",
    "import matplotlib.pyplot as plt\n",
    "import glob"
   ]
  },
  {
   "cell_type": "code",
   "execution_count": 54,
   "id": "58636141",
   "metadata": {},
   "outputs": [],
   "source": [
    "history_files = glob.glob(cwd+\"\\\\\\\\LOGS*\\\\\\\\history*2c*\")\n",
    "profile_files_100 = glob.glob(cwd+\"\\\\\\\\LOGS*2c*100Fearth*\\\\\\\\profile*.data\")\n",
    "profile_files_10 = glob.glob(cwd+\"\\\\\\\\LOGS*2c*10Fearth*\\\\\\\\profile*.data\")\n",
    "history_files = glob.glob(cwd+\"\\\\\\\\LOGS*\\\\\\\\history*2c*\")"
   ]
  },
  {
   "cell_type": "code",
   "execution_count": 55,
   "id": "17aed97c",
   "metadata": {},
   "outputs": [
    {
     "data": {
      "text/plain": [
       "['C:\\\\Users\\\\ambar\\\\Documents\\\\GitHub\\\\eia_lab2\\\\LOGS_inlist_2c_evosurfheat_12ME_0.1_9.0_10Fearth\\\\profile1.data',\n",
       " 'C:\\\\Users\\\\ambar\\\\Documents\\\\GitHub\\\\eia_lab2\\\\LOGS_inlist_2c_evosurfheat_12ME_0.1_9.0_10Fearth\\\\profile2.data',\n",
       " 'C:\\\\Users\\\\ambar\\\\Documents\\\\GitHub\\\\eia_lab2\\\\LOGS_inlist_2c_evosurfheat_12ME_0.1_9.0_10Fearth\\\\profile3.data',\n",
       " 'C:\\\\Users\\\\ambar\\\\Documents\\\\GitHub\\\\eia_lab2\\\\LOGS_inlist_2c_evosurfheat_12ME_0.1_9.0_10Fearth\\\\profile4.data',\n",
       " 'C:\\\\Users\\\\ambar\\\\Documents\\\\GitHub\\\\eia_lab2\\\\LOGS_inlist_2c_evosurfheat_12ME_0.1_9.0_10Fearth\\\\profile5.data']"
      ]
     },
     "execution_count": 55,
     "metadata": {},
     "output_type": "execute_result"
    }
   ],
   "source": [
    "profile_files_10"
   ]
  },
  {
   "cell_type": "code",
   "execution_count": 56,
   "id": "4849fced",
   "metadata": {},
   "outputs": [
    {
     "data": {
      "text/plain": [
       "['C:\\\\Users\\\\ambar\\\\Documents\\\\GitHub\\\\eia_lab2\\\\LOGS_inlist_2c_evosurfheat_12ME_0.1_9.0_100Fearth\\\\profile1.data',\n",
       " 'C:\\\\Users\\\\ambar\\\\Documents\\\\GitHub\\\\eia_lab2\\\\LOGS_inlist_2c_evosurfheat_12ME_0.1_9.0_100Fearth\\\\profile2.data',\n",
       " 'C:\\\\Users\\\\ambar\\\\Documents\\\\GitHub\\\\eia_lab2\\\\LOGS_inlist_2c_evosurfheat_12ME_0.1_9.0_100Fearth\\\\profile3.data',\n",
       " 'C:\\\\Users\\\\ambar\\\\Documents\\\\GitHub\\\\eia_lab2\\\\LOGS_inlist_2c_evosurfheat_12ME_0.1_9.0_100Fearth\\\\profile4.data',\n",
       " 'C:\\\\Users\\\\ambar\\\\Documents\\\\GitHub\\\\eia_lab2\\\\LOGS_inlist_2c_evosurfheat_12ME_0.1_9.0_100Fearth\\\\profile5.data']"
      ]
     },
     "execution_count": 56,
     "metadata": {},
     "output_type": "execute_result"
    }
   ],
   "source": [
    "profile_files_100"
   ]
  },
  {
   "cell_type": "code",
   "execution_count": 65,
   "id": "c1410868",
   "metadata": {},
   "outputs": [],
   "source": [
    "history_files_1e = glob.glob(lab1dir+\"\\\\\\\\LOGS*1e*\\\\\\\\history*1e*12ME*0.1*\")"
   ]
  },
  {
   "cell_type": "code",
   "execution_count": 66,
   "id": "e7bd8342",
   "metadata": {},
   "outputs": [
    {
     "data": {
      "text/plain": [
       "['..\\\\eia_lab1\\\\LOGS_inlist_1e_evolve_12ME_0.1_9.0\\\\history_1e_evolve_12ME_0.1_9.0']"
      ]
     },
     "execution_count": 66,
     "metadata": {},
     "output_type": "execute_result"
    }
   ],
   "source": [
    "history_files_1e"
   ]
  },
  {
   "cell_type": "code",
   "execution_count": 70,
   "id": "dda86505",
   "metadata": {},
   "outputs": [],
   "source": [
    "profile_files_1e = glob.glob(lab1dir+\"\\\\\\\\LOGS*1e*12ME*0.1*\\\\\\\\profile*.data\")"
   ]
  },
  {
   "cell_type": "code",
   "execution_count": 91,
   "id": "5a30523e",
   "metadata": {},
   "outputs": [
    {
     "data": {
      "text/plain": [
       "['..\\\\eia_lab1\\\\LOGS_inlist_1e_evolve_12ME_0.1_9.0\\\\profile1.data',\n",
       " '..\\\\eia_lab1\\\\LOGS_inlist_1e_evolve_12ME_0.1_9.0\\\\profile2.data',\n",
       " '..\\\\eia_lab1\\\\LOGS_inlist_1e_evolve_12ME_0.1_9.0\\\\profile3.data',\n",
       " '..\\\\eia_lab1\\\\LOGS_inlist_1e_evolve_12ME_0.1_9.0\\\\profile4.data',\n",
       " '..\\\\eia_lab1\\\\LOGS_inlist_1e_evolve_12ME_0.1_9.0\\\\profile5.data',\n",
       " '..\\\\eia_lab1\\\\LOGS_inlist_1e_evolve_12ME_0.1_9.0\\\\profile6.data',\n",
       " '..\\\\eia_lab1\\\\LOGS_inlist_1e_evolve_12ME_0.1_9.0\\\\profile7.data']"
      ]
     },
     "execution_count": 91,
     "metadata": {},
     "output_type": "execute_result"
    }
   ],
   "source": [
    "profile_files_1e"
   ]
  },
  {
   "cell_type": "code",
   "execution_count": 77,
   "id": "fb36f45c",
   "metadata": {},
   "outputs": [
    {
     "data": {
      "text/plain": [
       "Index(['log_star_age', 'luminosity', 'radius', 'star_mass',\n",
       "       'surface_cell_temperature', 'conv_mx1_top_r', 'conv_mx1_top',\n",
       "       'center_entropy', 'max_entropy', 'log_L', 'log_Teff', 'log_center_T',\n",
       "       'log_center_Rho', 'log_R'],\n",
       "      dtype='object')"
      ]
     },
     "execution_count": 77,
     "metadata": {},
     "output_type": "execute_result"
    }
   ],
   "source": [
    "history10 = pd.read_table(history_files[0],sep = '\\s+', header = 4)\n",
    "history100 = pd.read_table(history_files[1],sep = '\\s+', header = 4)\n",
    "history1e = pd.read_table(history_files_1e[0],sep = '\\s+', header = 4)\n",
    "history10.columns"
   ]
  },
  {
   "cell_type": "code",
   "execution_count": 89,
   "id": "8235ab05",
   "metadata": {
    "scrolled": true
   },
   "outputs": [
    {
     "data": {
      "image/png": "[encoded data removed]",
      "text/plain": [
       "<Figure size 504x504 with 1 Axes>"
      ]
     },
     "metadata": {
      "needs_background": "light"
     },
     "output_type": "display_data"
    }
   ],
   "source": [
    "fig,ax = plt.subplots(1,1,figsize = (7,7))\n",
    "ax.plot(history10['log_star_age'],history10['log_R'],label = r'Stellar Flux on day side = 10 $\\times$ Earth')\n",
    "ax.plot(history100['log_star_age'],history100['log_R'],label = r'Stellar Flux on day side = 100 $\\times$ Earth')\n",
    "ax.plot(history1e['log_star_age'],history1e['log_R'],label = r'Stellar Flux on day side = not considered', linestyle = \"--\")\n",
    "ax.set_title(\"Evolution of the planet radii\")\n",
    "plt.legend()\n",
    "plt.show()"
   ]
  },
  {
   "cell_type": "code",
   "execution_count": 90,
   "id": "4e4749ea",
   "metadata": {},
   "outputs": [
    {
     "data": {
      "image/png": "[encoded data removed]",
      "text/plain": [
       "<Figure size 504x504 with 1 Axes>"
      ]
     },
     "metadata": {
      "needs_background": "light"
     },
     "output_type": "display_data"
    }
   ],
   "source": [
    "fig,ax = plt.subplots(1,1,figsize = (7,7))\n",
    "ax.plot(history10['log_star_age'],history10['log_L'],label = r'Stellar Flux on day side = 10 $\\times$ Earth')\n",
    "ax.plot(history100['log_star_age'],history100['log_L'],label = r'Stellar Flux on day side = 100 $\\times$ Earth')\n",
    "ax.plot(history1e['log_star_age'],history1e['log_L'],label = r'Stellar Flux on day side = not considered', linestyle = \"--\")\n",
    "ax.set_title(\"Evolution of the planet luminosity\")\n",
    "plt.legend()\n",
    "plt.show()"
   ]
  },
  {
   "cell_type": "code",
   "execution_count": 94,
   "id": "2d810808",
   "metadata": {},
   "outputs": [
    {
     "data": {
      "image/png": "[encoded data removed]",
      "text/plain": [
       "<Figure size 504x504 with 1 Axes>"
      ]
     },
     "metadata": {
      "needs_background": "light"
     },
     "output_type": "display_data"
    }
   ],
   "source": [
    "fig,ax = plt.subplots(1,1,figsize = (7,7))\n",
    "ax.scatter(history10['log_R'].iloc[-1],history10['star_mass'].iloc[-1],label = r'Stellar Flux on day side = 10 $\\times$ Earth')\n",
    "ax.scatter(history100['log_R'].iloc[-1],history100['star_mass'].iloc[-1],label = r'Stellar Flux on day side = 100 $\\times$ Earth')\n",
    "ax.scatter(history1e['log_R'].iloc[-1],history1e['star_mass'].iloc[-1],label = r'Stellar Flux on day side = not considered', linestyle = \"--\")\n",
    "ax.set_title(\"Evolution of the planet luminosity\")\n",
    "plt.legend()\n",
    "plt.show()"
   ]
  },
  {
   "cell_type": "markdown",
   "id": "dcfda447",
   "metadata": {},
   "source": [
    "# Code from previous Lab assignment"
   ]
  },
  {
   "cell_type": "markdown",
   "id": "a1b418f3",
   "metadata": {},
   "source": [
    "# gather data and generate plots : we beginnen"
   ]
  },
  {
   "cell_type": "code",
   "execution_count": 6,
   "id": "07e740a0",
   "metadata": {},
   "outputs": [],
   "source": [
    "# one showing the evoluEon of the radius of each planet with Eme\n",
    "import pandas as pd\n",
    "import matplotlib.pyplot as plt\n",
    "# import mesa_reader as mr"
   ]
  },
  {
   "cell_type": "code",
   "execution_count": 266,
   "id": "9aa34054",
   "metadata": {},
   "outputs": [
    {
     "name": "stdout",
     "output_type": "stream",
     "text": [
      "['10ME' '10ME' '12ME' '12ME' '3ME' '3ME' '5ME' '5ME' '7ME' '7ME']\n",
      "[0.01 0.1  0.01 0.1  0.01 0.1  0.01 0.1  0.01 0.1 ]\n"
     ]
    }
   ],
   "source": [
    "masslist = np.array([\"7ME\",\"3ME\",\"10ME\",\"12ME\",\"5ME\",\"7ME\",\"3ME\",\"10ME\",\"12ME\",\"5ME\"])\n",
    "flist = np.array([0.01,0.1,0.01,0.1,0.01,0.1,0.01,0.1,0.01,0.1])\n",
    "masslist.sort()\n",
    "print(masslist)\n",
    "print(flist)"
   ]
  },
  {
   "cell_type": "code",
   "execution_count": 276,
   "id": "2132a6b6",
   "metadata": {},
   "outputs": [
    {
     "data": {
      "text/plain": [
       "['core mass = 3M$_\\\\oplus$ f$_{env}$ = 0.1',\n",
       " 'core mass = 5M$_\\\\oplus$ f$_{env}$ = 0.1',\n",
       " 'core mass = 7M$_\\\\oplus$ f$_{env}$ = 0.1',\n",
       " 'core mass = 10M$_\\\\oplus$ f$_{env}$ = 0.1',\n",
       " 'core mass = 12M$_\\\\oplus$ f$_{env}$ = 0.1',\n",
       " 'core mass = 3M$_\\\\oplus$ f$_{env}$ = 0.01',\n",
       " 'core mass = 5M$_\\\\oplus$ f$_{env}$ = 0.01',\n",
       " 'core mass = 7M$_\\\\oplus$ f$_{env}$ = 0.01',\n",
       " 'core mass = 10M$_\\\\oplus$ f$_{env}$ = 0.01',\n",
       " 'core mass = 12M$_\\\\oplus$ f$_{env}$ = 0.01']"
      ]
     },
     "execution_count": 276,
     "metadata": {},
     "output_type": "execute_result"
    }
   ],
   "source": [
    "history_collection_10 = []\n",
    "label_list = []\n",
    "for j,fenv in enumerate(fenvs):\n",
    "    for i,mass in enumerate(masses_in_Emass):\n",
    "        hist = pd.read_table('eialab3/Lab1/LOGS_inlist_1e_evolve_'+str(m_multiples[i])+'ME_'+str(fenv)+'_9.0/history_1e_evolve_'+str(m_multiples[i])+'ME_'+str(fenv)+'_9.0',sep = '\\s+', header = 4)\n",
    "        label_list.append(\"core mass = \"+str(m_multiples[i])+r'M$_\\oplus$'+\" f$_{env}$ = \"+str(fenv))\n",
    "        history_collection.append(hist)\n",
    "# history_collection\n",
    "label_list"
   ]
  },
  {
   "cell_type": "code",
   "execution_count": 281,
   "id": "76f71e77",
   "metadata": {},
   "outputs": [
    {
     "data": {
      "text/plain": [
       "Index(['log_star_age', 'luminosity', 'radius', 'star_mass',\n",
       "       'surface_cell_temperature', 'conv_mx1_top_r', 'conv_mx1_top',\n",
       "       'center_entropy', 'max_entropy', 'log_L', 'log_Teff', 'log_center_T',\n",
       "       'log_center_Rho', 'log_R'],\n",
       "      dtype='object')"
      ]
     },
     "execution_count": 281,
     "metadata": {},
     "output_type": "execute_result"
    }
   ],
   "source": [
    "history_collection[0].columns"
   ]
  },
  {
   "cell_type": "code",
   "execution_count": 280,
   "id": "8c0f0eb1",
   "metadata": {
    "scrolled": true
   },
   "outputs": [
    {
     "data": {
      "text/plain": [
       "<matplotlib.legend.Legend at 0x7ff6d3f04b50>"
      ]
     },
     "execution_count": 280,
     "metadata": {},
     "output_type": "execute_result"
    },
    {
     "data": {
      "image/png": "[encoded data removed]",
      "text/plain": [
       "<Figure size 720x720 with 1 Axes>"
      ]
     },
     "metadata": {
      "needs_background": "light"
     },
     "output_type": "display_data"
    }
   ],
   "source": [
    "fig = plt.figure(figsize = (10,10))\n",
    "colorlist = ['b','orange','green', 'r','purple','b','orange','green', 'r','purple']\n",
    "for i,hist in enumerate(history_collection):\n",
    "    R_in_cm = prof['radius_cm']*u.cm\n",
    "        R_in_Rearth = []\n",
    "        for r in R_in_cm:\n",
    "            R_in_Rearth.append(r.to(u.Rearth).value)\n",
    "    if flist[i] == 0.01:\n",
    "        p = plt.plot(hist['log_star_age'],hist['log_R'], linestyle='dashed', label = label_list[i], color = colorlist[i])\n",
    "    if flist[i] == 0.1:\n",
    "        plt.plot(hist['log_star_age'],hist['log_R'], label = label_list[i], color = colorlist[i])\n",
    "plt.legend()\n",
    "plt.xlabel('')"
   ]
  },
  {
   "cell_type": "code",
   "execution_count": null,
   "id": "dce2f59b",
   "metadata": {},
   "outputs": [],
   "source": []
  },
  {
   "cell_type": "markdown",
   "id": "2bca2524",
   "metadata": {},
   "source": [
    "# Loop of inlist update sequence from Lab1 for reference"
   ]
  },
  {
   "cell_type": "code",
   "execution_count": 11,
   "id": "df6c26ec",
   "metadata": {},
   "outputs": [
    {
     "name": "stdout",
     "output_type": "stream",
     "text": [
      "      saved_model_name = \"planet_1c_reducemass_15ME_0.1.mod\"\n",
      "       save_model_filename = \"planet_1d_setS_15ME_0.1_9.0.mod\"\n",
      " \tstar_history_name = \"history_1d_setS_15ME_0.1_9.0\"\n",
      "\n"
     ]
    }
   ],
   "source": [
    "# print certain lines of the file that we use as base to edit and create files for different models\n",
    "with open('inlist_1d_setS') as f:\n",
    "    lines = f.readlines()\n",
    "    print(lines[7], lines[10], lines[52])\n",
    "    f.close"
   ]
  },
  {
   "cell_type": "code",
   "execution_count": 12,
   "id": "cd7dbab9",
   "metadata": {},
   "outputs": [
    {
     "name": "stdout",
     "output_type": "stream",
     "text": [
      "inlist_1d_setS_3ME_0.1_9.0\n",
      "\n",
      "\n",
      "inlist_1d_setS_5ME_0.1_9.0\n",
      "\n",
      "\n",
      "inlist_1d_setS_7ME_0.1_9.0\n",
      "\n",
      "\n",
      "inlist_1d_setS_10ME_0.1_9.0\n",
      "\n",
      "\n",
      "inlist_1d_setS_12ME_0.1_9.0\n",
      "\n",
      "\n",
      "inlist_1d_setS_3ME_0.01_9.0\n",
      "\n",
      "\n",
      "inlist_1d_setS_5ME_0.01_9.0\n",
      "\n",
      "\n",
      "inlist_1d_setS_7ME_0.01_9.0\n",
      "\n",
      "\n",
      "inlist_1d_setS_10ME_0.01_9.0\n",
      "\n",
      "\n",
      "inlist_1d_setS_12ME_0.01_9.0\n",
      "\n",
      "\n"
     ]
    }
   ],
   "source": [
    "# create a list of arrays with all the lines of the files we need to write\n",
    "# and a list of filenames to save the files with\n",
    "files_to_write = []\n",
    "fnames = []\n",
    "for j,fenv in enumerate(fenvs):\n",
    "    for i,mass in enumerate(masses_in_Emass):\n",
    "        with open('inlist_1d_setS') as f:\n",
    "            lines = f.readlines()\n",
    "            lines[7] = \"\\tsaved_model_name = \\\"planet_1c_reducemass_\"+str(m_multiples[i])+\"ME_\"+str(fenv)+\".mod\\\"\\n\"\n",
    "            lines[10] = \"\\tsave_model_filename = \\\"planet_1d_setS_\"+str(m_multiples[i])+\"ME_\"+str(fenv)+\"_9.0.mod\\\"\\n\"\n",
    "            lines[52] = \"\\tstar_history_name = \\\"history_1d_setS_\"+str(m_multiples[i])+\"ME_\"+str(fenv)+\"_9.0\\\"\\n\"\n",
    "            files_to_write.append(lines)\n",
    "            fnames.append(\"inlist_1d_setS_\"+str(m_multiples[i])+\"ME_\"+str(fenv)+\"_9.0\")\n",
    "            f.close\n",
    "        print(fnames[-1])\n",
    "        print(\"\\n\")"
   ]
  },
  {
   "cell_type": "code",
   "execution_count": 17,
   "id": "837b902f",
   "metadata": {},
   "outputs": [
    {
     "name": "stdout",
     "output_type": "stream",
     "text": [
      "\tsaved_model_name = \"planet_1c_reducemass_12ME_0.01.mod\"\n",
      " \tsave_model_filename = \"planet_1d_setS_12ME_0.01_9.0.mod\"\n",
      " \tstar_history_name = \"history_1d_setS_12ME_0.01_9.0\"\n",
      "\n"
     ]
    }
   ],
   "source": [
    "# check if the lists have been updated and saved correctly\n",
    "print(files_to_write[-1][7],files_to_write[-1][10],files_to_write[-1][52])"
   ]
  },
  {
   "cell_type": "code",
   "execution_count": 13,
   "id": "eef09c1c",
   "metadata": {},
   "outputs": [],
   "source": [
    "# write out to files\n",
    "for i,w_files in enumerate(fnames):\n",
    "    with open(str(w_files),'w') as f:\n",
    "        f.writelines(files_to_write[i])\n",
    "        f.close"
   ]
  },
  {
   "cell_type": "code",
   "execution_count": 14,
   "id": "56ecd62e",
   "metadata": {},
   "outputs": [],
   "source": [
    "# make execution script\n",
    "'''steps:\n",
    "    - add the #!/bin line that makes the file executable\n",
    "    - loop over the filenames that we need to run and write script for each in the following steps\n",
    "        1. rename to inlist\n",
    "        2. clean\n",
    "        3. make\n",
    "        4. run\n",
    "        5. rename to previous name\n",
    "        6. create a copy of log folder with unique name\n",
    "        7. display the contents of the directory\n",
    "'''\n",
    "\n",
    "script = [\"#!/bin/sh\\n\\n\"]\n",
    "for fn in fnames:\n",
    "    script.append(\"mv \"+fn+\" inlist\\n\")\n",
    "    script.append(\"./clean\\n\")\n",
    "    script.append(\"./mk\\n\")\n",
    "    script.append(\"./rn\\n\")\n",
    "    script.append(\"mv \"+\"inlist \"+fn+\"\\n\")\n",
    "    script.append(\"mv LOGS LOGS_\"+fn+\"\\n\")\n",
    "    script.append(\"ls\\n\")"
   ]
  },
  {
   "cell_type": "code",
   "execution_count": 15,
   "id": "6325bce8",
   "metadata": {},
   "outputs": [
    {
     "name": "stdout",
     "output_type": "stream",
     "text": [
      "scp script_1d inlist_1d_setS_3ME_0.1_9.0 inlist_1d_setS_5ME_0.1_9.0 inlist_1d_setS_7ME_0.1_9.0 inlist_1d_setS_10ME_0.1_9.0 inlist_1d_setS_12ME_0.1_9.0 inlist_1d_setS_3ME_0.01_9.0 inlist_1d_setS_5ME_0.01_9.0 inlist_1d_setS_7ME_0.01_9.0 inlist_1d_setS_10ME_0.01_9.0 inlist_1d_setS_12ME_0.01_9.0 qadeer@student33.strw.leidenuniv.nl:/home/qadeer/Desktop/eia2022/ass1/Lab1/Lab1/\n"
     ]
    }
   ],
   "source": [
    "# if working remotely, this command helps copy the right files to remote from local,\n",
    "# might have to edit the directories to suit yourself\n",
    "\n",
    "namestring = \"script_1d \"\n",
    "for n in fnames:\n",
    "    namestring = namestring + n + \" \"\n",
    "\n",
    "print(\"scp \"+namestring+\"qadeer@student33.strw.leidenuniv.nl:/home/qadeer/Desktop/eia2022/ass1/Lab1/Lab1/\")"
   ]
  },
  {
   "cell_type": "code",
   "execution_count": 16,
   "id": "d2da8be2",
   "metadata": {},
   "outputs": [],
   "source": [
    "# write out to the bash script to a txt file\n",
    "with open('script_1d.txt','w') as f:\n",
    "    f.writelines(script)\n",
    "    f.close"
   ]
  }
 ],
 "metadata": {
  "kernelspec": {
   "display_name": "Python 3 (ipykernel)",
   "language": "python",
   "name": "python3"
  },
  "language_info": {
   "codemirror_mode": {
    "name": "ipython",
    "version": 3
   },
   "file_extension": ".py",
   "mimetype": "text/x-python",
   "name": "python",
   "nbconvert_exporter": "python",
   "pygments_lexer": "ipython3",
   "version": "3.8.12"
  }
 },
 "nbformat": 4,
 "nbformat_minor": 5
}
