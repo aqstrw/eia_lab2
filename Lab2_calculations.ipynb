{
 "cells": [
  {
   "cell_type": "code",
   "execution_count": 19,
   "metadata": {},
   "outputs": [],
   "source": [
    "import numpy as np\n",
    "import astropy.units as u\n",
    "import os\n",
    "import re"
   ]
  },
  {
   "cell_type": "code",
   "execution_count": 20,
   "metadata": {},
   "outputs": [
    {
     "name": "stdout",
     "output_type": "stream",
     "text": [
      "masses in Emass =  [12]\n",
      "fenvs =  [0.1]\n"
     ]
    }
   ],
   "source": [
    "masses_in_Emass = [12]\n",
    "fenvs = [0.1]\n",
    "cwd = os.getcwd()\n",
    "# cwd_linstyle = re.sub(\"C:\\\\\",\"\\\\/mnt\\/c\\/\",cwd)\n",
    "# cwd_linstyle = re.sub(\"\\\\\\\\\",\"\\/\",cwd_linstyle)\n",
    "print(\"masses in Emass = \", masses_in_Emass)\n",
    "print(\"fenvs = \", fenvs)\n",
    "# print(\"cwd_linstyle = \", cwd_linstyle)\n",
    "# print(\"cwd = \", cwd)"
   ]
  },
  {
   "cell_type": "code",
   "execution_count": 21,
   "metadata": {},
   "outputs": [
    {
     "name": "stdout",
     "output_type": "stream",
     "text": [
      "      saved_model_name = \"planet_1d_setS_15ME_0.1_9.0.mod\"\n",
      "       save_model_filename = \"planet_2a_evolve_15ME_0.1_9.0.mod\"\n",
      "       pause_before_terminate = .true. ! lets you examine the final pgstar window when run terminates\n",
      " \tstar_history_name = \"history_2a_evolve_15ME_0.1_9.0\"\n",
      "\n"
     ]
    }
   ],
   "source": [
    "# print certain lines of the file that we use as base to edit and create files for different models\n",
    "with open('inlist_2a_evolve') as f:\n",
    "    lines = f.readlines()\n",
    "    print(lines[7], lines[10], lines[29], lines[53])\n",
    "    f.close"
   ]
  },
  {
   "cell_type": "code",
   "execution_count": 22,
   "metadata": {},
   "outputs": [
    {
     "name": "stdout",
     "output_type": "stream",
     "text": [
      "inlist_2a_evolve_12ME_0.1_9.0\n",
      "\n",
      "\n"
     ]
    }
   ],
   "source": [
    "# create a list of arrays with all the lines of the files we need to write\n",
    "# and a list of filenames to save the files with\n",
    "files_to_write = []\n",
    "fnames = []\n",
    "for j,fenv in enumerate(fenvs):\n",
    "    for i,mass in enumerate(masses_in_Emass):\n",
    "        with open('inlist_2a_evolve') as f:\n",
    "            lines = f.readlines()\n",
    "            #saved_model_name = \"planet_1d_setS_15ME_0.1_9.0.mod\"\n",
    "            lines[7] = \"\\tsaved_model_name = \\\"planet_1d_setS_\"+str(mass)+\"ME_\"+str(fenv)+\"_9.0.mod\\\"\\n\"\n",
    "            lines[10] = \"\\tsave_model_filename = \\\"planet_2a_evolve_\"+str(mass)+\"ME_\"+str(fenv)+\"_9.0.mod\\\"\\n\"\n",
    "            lines[29] = \"\\tpause_before_terminate = .false. ! lets you examine the final pgstar window when run terminates\"\n",
    "            lines[53] = \"\\tstar_history_name = \\\"history_planet_2a_evolve_\"+str(mass)+\"ME_\"+str(fenv)+\"_9.0\\\"\\n\"\n",
    "            files_to_write.append(lines)\n",
    "            fnames.append(\"inlist_2a_evolve_\"+str(mass)+\"ME_\"+str(fenv)+\"_9.0\")\n",
    "            f.close\n",
    "        print(fnames[-1])\n",
    "        print(\"\\n\")"
   ]
  },
  {
   "cell_type": "code",
   "execution_count": 23,
   "metadata": {},
   "outputs": [
    {
     "name": "stdout",
     "output_type": "stream",
     "text": [
      "\tsaved_model_name = \"planet_1d_setS_12ME_0.1_9.0.mod\"\n",
      " \tsave_model_filename = \"planet_2a_evolve_12ME_0.1_9.0.mod\"\n",
      " \tpause_before_terminate = .false. ! lets you examine the final pgstar window when run terminates \tstar_history_name = \"history_planet_2a_evolve_12ME_0.1_9.0\"\n",
      "\n"
     ]
    }
   ],
   "source": [
    "# check if the lists have been updated and saved correctly\n",
    "print(files_to_write[-1][7],files_to_write[-1][10],files_to_write[-1][29],files_to_write[-1][53])"
   ]
  },
  {
   "cell_type": "code",
   "execution_count": 24,
   "metadata": {},
   "outputs": [],
   "source": [
    "# write out to files\n",
    "for i,w_files in enumerate(fnames):\n",
    "    with open(str(w_files),'w') as f:\n",
    "        f.writelines(files_to_write[i])\n",
    "        f.close"
   ]
  },
  {
   "cell_type": "code",
   "execution_count": 25,
   "metadata": {},
   "outputs": [],
   "source": [
    "# make execution script\n",
    "'''steps:\n",
    "    - add the #!/bin line that makes the file executable\n",
    "    - loop over the filenames that we need to run and write script for each in the following steps\n",
    "        1. rename to inlist\n",
    "        2. clean\n",
    "        3. make\n",
    "        4. run\n",
    "        5. rename to previous name\n",
    "        6. create a copy of log folder with unique name\n",
    "        7. display the contents of the directory\n",
    "'''\n",
    "\n",
    "script = [\"#!/bin/sh\\n\\n\"]\n",
    "for fn in fnames:\n",
    "    script.append(\"mv \"+fn+\" inlist\\n\")\n",
    "    script.append(\"./clean\\n\")\n",
    "    script.append(\"./mk\\n\")\n",
    "    script.append(\"./rn\\n\")\n",
    "    script.append(\"mv \"+\"inlist \"+fn+\"\\n\")\n",
    "    script.append(\"mv LOGS LOGS_\"+fn+\"\\n\")\n",
    "    script.append(\"ls\\n\")"
   ]
  },
  {
   "cell_type": "code",
   "execution_count": 26,
   "metadata": {},
   "outputs": [
    {
     "name": "stdout",
     "output_type": "stream",
     "text": [
      "scp script_2a inlist_2a_evolve_12ME_0.1_9.0 qadeer@student62.strw.leidenuniv.nl:/data2/qadeer/eia2022/eia_lab2/\n"
     ]
    }
   ],
   "source": [
    "# if working remotely, this command helps copy the right files to remote from local,\n",
    "# might have to edit the directories to suit yourself\n",
    "\n",
    "namestring = \"script_2a \"\n",
    "for n in fnames:\n",
    "    namestring = namestring + n + \" \"\n",
    "\n",
    "print(\"scp \"+namestring+\"qadeer@student62.strw.leidenuniv.nl:/data2/qadeer/eia2022/eia_lab2/\")"
   ]
  },
  {
   "cell_type": "code",
   "execution_count": 27,
   "metadata": {},
   "outputs": [],
   "source": [
    "# write out to the bash script to a txt file\n",
    "with open('script_2a.sh','w') as f:\n",
    "    f.writelines(script)\n",
    "    f.close"
   ]
  },
  {
   "cell_type": "markdown",
   "metadata": {},
   "source": [
    "# Loop of inlist update sequence from Lab1 for reference"
   ]
  },
  {
   "cell_type": "code",
   "execution_count": 11,
   "metadata": {},
   "outputs": [
    {
     "name": "stdout",
     "output_type": "stream",
     "text": [
      "      saved_model_name = \"planet_1c_reducemass_15ME_0.1.mod\"\n",
      "       save_model_filename = \"planet_1d_setS_15ME_0.1_9.0.mod\"\n",
      " \tstar_history_name = \"history_1d_setS_15ME_0.1_9.0\"\n",
      "\n"
     ]
    }
   ],
   "source": [
    "# print certain lines of the file that we use as base to edit and create files for different models\n",
    "with open('inlist_1d_setS') as f:\n",
    "    lines = f.readlines()\n",
    "    print(lines[7], lines[10], lines[52])\n",
    "    f.close"
   ]
  },
  {
   "cell_type": "code",
   "execution_count": 12,
   "metadata": {},
   "outputs": [
    {
     "name": "stdout",
     "output_type": "stream",
     "text": [
      "inlist_1d_setS_3ME_0.1_9.0\n",
      "\n",
      "\n",
      "inlist_1d_setS_5ME_0.1_9.0\n",
      "\n",
      "\n",
      "inlist_1d_setS_7ME_0.1_9.0\n",
      "\n",
      "\n",
      "inlist_1d_setS_10ME_0.1_9.0\n",
      "\n",
      "\n",
      "inlist_1d_setS_12ME_0.1_9.0\n",
      "\n",
      "\n",
      "inlist_1d_setS_3ME_0.01_9.0\n",
      "\n",
      "\n",
      "inlist_1d_setS_5ME_0.01_9.0\n",
      "\n",
      "\n",
      "inlist_1d_setS_7ME_0.01_9.0\n",
      "\n",
      "\n",
      "inlist_1d_setS_10ME_0.01_9.0\n",
      "\n",
      "\n",
      "inlist_1d_setS_12ME_0.01_9.0\n",
      "\n",
      "\n"
     ]
    }
   ],
   "source": [
    "# create a list of arrays with all the lines of the files we need to write\n",
    "# and a list of filenames to save the files with\n",
    "files_to_write = []\n",
    "fnames = []\n",
    "for j,fenv in enumerate(fenvs):\n",
    "    for i,mass in enumerate(masses_in_Emass):\n",
    "        with open('inlist_1d_setS') as f:\n",
    "            lines = f.readlines()\n",
    "            lines[7] = \"\\tsaved_model_name = \\\"planet_1c_reducemass_\"+str(m_multiples[i])+\"ME_\"+str(fenv)+\".mod\\\"\\n\"\n",
    "            lines[10] = \"\\tsave_model_filename = \\\"planet_1d_setS_\"+str(m_multiples[i])+\"ME_\"+str(fenv)+\"_9.0.mod\\\"\\n\"\n",
    "            lines[52] = \"\\tstar_history_name = \\\"history_1d_setS_\"+str(m_multiples[i])+\"ME_\"+str(fenv)+\"_9.0\\\"\\n\"\n",
    "            files_to_write.append(lines)\n",
    "            fnames.append(\"inlist_1d_setS_\"+str(m_multiples[i])+\"ME_\"+str(fenv)+\"_9.0\")\n",
    "            f.close\n",
    "        print(fnames[-1])\n",
    "        print(\"\\n\")"
   ]
  },
  {
   "cell_type": "code",
   "execution_count": 17,
   "metadata": {},
   "outputs": [
    {
     "name": "stdout",
     "output_type": "stream",
     "text": [
      "\tsaved_model_name = \"planet_1c_reducemass_12ME_0.01.mod\"\n",
      " \tsave_model_filename = \"planet_1d_setS_12ME_0.01_9.0.mod\"\n",
      " \tstar_history_name = \"history_1d_setS_12ME_0.01_9.0\"\n",
      "\n"
     ]
    }
   ],
   "source": [
    "# check if the lists have been updated and saved correctly\n",
    "print(files_to_write[-1][7],files_to_write[-1][10],files_to_write[-1][52])"
   ]
  },
  {
   "cell_type": "code",
   "execution_count": 13,
   "metadata": {},
   "outputs": [],
   "source": [
    "# write out to files\n",
    "for i,w_files in enumerate(fnames):\n",
    "    with open(str(w_files),'w') as f:\n",
    "        f.writelines(files_to_write[i])\n",
    "        f.close"
   ]
  },
  {
   "cell_type": "code",
   "execution_count": 14,
   "metadata": {},
   "outputs": [],
   "source": [
    "# make execution script\n",
    "'''steps:\n",
    "    - add the #!/bin line that makes the file executable\n",
    "    - loop over the filenames that we need to run and write script for each in the following steps\n",
    "        1. rename to inlist\n",
    "        2. clean\n",
    "        3. make\n",
    "        4. run\n",
    "        5. rename to previous name\n",
    "        6. create a copy of log folder with unique name\n",
    "        7. display the contents of the directory\n",
    "'''\n",
    "\n",
    "script = [\"#!/bin/sh\\n\\n\"]\n",
    "for fn in fnames:\n",
    "    script.append(\"mv \"+fn+\" inlist\\n\")\n",
    "    script.append(\"./clean\\n\")\n",
    "    script.append(\"./mk\\n\")\n",
    "    script.append(\"./rn\\n\")\n",
    "    script.append(\"mv \"+\"inlist \"+fn+\"\\n\")\n",
    "    script.append(\"mv LOGS LOGS_\"+fn+\"\\n\")\n",
    "    script.append(\"ls\\n\")"
   ]
  },
  {
   "cell_type": "code",
   "execution_count": 15,
   "metadata": {},
   "outputs": [
    {
     "name": "stdout",
     "output_type": "stream",
     "text": [
      "scp script_1d inlist_1d_setS_3ME_0.1_9.0 inlist_1d_setS_5ME_0.1_9.0 inlist_1d_setS_7ME_0.1_9.0 inlist_1d_setS_10ME_0.1_9.0 inlist_1d_setS_12ME_0.1_9.0 inlist_1d_setS_3ME_0.01_9.0 inlist_1d_setS_5ME_0.01_9.0 inlist_1d_setS_7ME_0.01_9.0 inlist_1d_setS_10ME_0.01_9.0 inlist_1d_setS_12ME_0.01_9.0 qadeer@student33.strw.leidenuniv.nl:/home/qadeer/Desktop/eia2022/ass1/Lab1/Lab1/\n"
     ]
    }
   ],
   "source": [
    "# if working remotely, this command helps copy the right files to remote from local,\n",
    "# might have to edit the directories to suit yourself\n",
    "\n",
    "namestring = \"script_1d \"\n",
    "for n in fnames:\n",
    "    namestring = namestring + n + \" \"\n",
    "\n",
    "print(\"scp \"+namestring+\"qadeer@student33.strw.leidenuniv.nl:/home/qadeer/Desktop/eia2022/ass1/Lab1/Lab1/\")"
   ]
  },
  {
   "cell_type": "code",
   "execution_count": 16,
   "metadata": {},
   "outputs": [],
   "source": [
    "# write out to the bash script to a txt file\n",
    "with open('script_1d.txt','w') as f:\n",
    "    f.writelines(script)\n",
    "    f.close"
   ]
  }
 ],
 "metadata": {
  "kernelspec": {
   "display_name": "Python 3",
   "language": "python",
   "name": "python3"
  },
  "language_info": {
   "codemirror_mode": {
    "name": "ipython",
    "version": 3
   },
   "file_extension": ".py",
   "mimetype": "text/x-python",
   "name": "python",
   "nbconvert_exporter": "python",
   "pygments_lexer": "ipython3",
   "version": "3.8.5"
  }
 },
 "nbformat": 4,
 "nbformat_minor": 5
}
